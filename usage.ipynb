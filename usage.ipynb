{
 "cells": [
  {
   "cell_type": "markdown",
   "id": "1ba2567e",
   "metadata": {},
   "source": [
    "# Project 1: Finding similar items\n"
   ]
  },
  {
   "cell_type": "code",
   "execution_count": null,
   "id": "adf77cf5",
   "metadata": {},
   "outputs": [
    {
     "name": "stdout",
     "output_type": "stream",
     "text": [
      "Note: you may need to restart the kernel to use updated packages.\n"
     ]
    },
    {
     "name": "stderr",
     "output_type": "stream",
     "text": [
      "\n",
      "[notice] A new release of pip is available: 23.2.1 -> 25.2\n",
      "[notice] To update, run: python.exe -m pip install --upgrade pip\n"
     ]
    }
   ],
   "source": [
    "# Install Kaggle CLI\n",
    "%pip install -q kaggle\n",
    "!git clone https://github.com/Niccolo901/massive_data.git\n",
    "%cd massive_data\n"
   ]
  },
  {
   "cell_type": "code",
   "execution_count": 1,
   "id": "c7244027",
   "metadata": {},
   "outputs": [],
   "source": [
    "from pyspark.ml.feature import RegexTokenizer, StopWordsRemover\n",
    "from pyspark.sql.functions import udf\n",
    "from pyspark.sql.types import ArrayType, StringType\n",
    "from text_similarity_analyzer import TextSimilarityAnalyzer"
   ]
  },
  {
   "cell_type": "code",
   "execution_count": null,
   "id": "4b98cbd80fe8cd48",
   "metadata": {
    "ExecuteTime": {
     "end_time": "2025-05-06T10:28:22.626668Z",
     "start_time": "2025-05-06T10:28:19.715621Z"
    },
    "colab": {
     "base_uri": "https://localhost:8080/"
    },
    "id": "4b98cbd80fe8cd48",
    "outputId": "68ee82e0-cb3e-4360-96cf-9bd1790a6156"
   },
   "outputs": [
    {
     "name": "stderr",
     "output_type": "stream",
     "text": [
      "\"chmod\" non � riconosciuto come comando interno o esterno,\n",
      " un programma eseguibile o un file batch.\n"
     ]
    },
    {
     "name": "stdout",
     "output_type": "stream",
     "text": [
      "Dataset URL: https://www.kaggle.com/datasets/mohamedbakhet/amazon-books-reviews\n",
      "License(s): CC0-1.0\n",
      "Downloading amazon-books-reviews.zip to dataset\n",
      "\n"
     ]
    },
    {
     "name": "stderr",
     "output_type": "stream",
     "text": [
      "\n",
      "  0%|          | 0.00/1.06G [00:00<?, ?B/s]\n",
      "  8%|▊         | 85.0M/1.06G [00:00<00:01, 889MB/s]\n",
      " 18%|█▊        | 195M/1.06G [00:00<00:00, 1.04GB/s]\n",
      " 28%|██▊       | 309M/1.06G [00:00<00:00, 1.11GB/s]\n",
      " 39%|███▉      | 424M/1.06G [00:00<00:00, 1.14GB/s]\n",
      " 49%|████▉     | 534M/1.06G [00:01<00:02, 206MB/s] \n",
      " 56%|█████▌    | 607M/1.06G [00:01<00:02, 252MB/s]\n",
      " 66%|██████▌   | 716M/1.06G [00:01<00:01, 347MB/s]\n",
      " 75%|███████▌  | 818M/1.06G [00:02<00:00, 442MB/s]\n",
      " 85%|████████▌ | 925M/1.06G [00:02<00:00, 550MB/s]\n",
      " 94%|█████████▍| 1.00G/1.06G [00:03<00:00, 264MB/s]\n",
      "100%|██████████| 1.06G/1.06G [00:03<00:00, 337MB/s]\n"
     ]
    },
    {
     "name": "stdout",
     "output_type": "stream",
     "text": [
      "Dataset ready.\n"
     ]
    }
   ],
   "source": [
    "from google.colab import files\n",
    "import os, zipfile\n",
    "\n",
    "# Upload kaggle.json (you’ll be prompted to select the file)\n",
    "files.upload()\n",
    "\n",
    "# Move it to the right place\n",
    "os.makedirs(\"/root/.kaggle\", exist_ok=True)\n",
    "!mv kaggle.json /root/.kaggle/\n",
    "!chmod 600 /root/.kaggle/kaggle.json\n",
    "\n",
    "# Download dataset\n",
    "!kaggle datasets download -d mohamedbakhet/amazon-books-reviews -p dataset\n",
    "\n",
    "# Extract and clean up\n",
    "zip_path = \"dataset/amazon-books-reviews.zip\"\n",
    "with zipfile.ZipFile(zip_path, \"r\") as zip_ref:\n",
    "    zip_ref.extractall(\"dataset\")\n",
    "os.remove(zip_path)\n",
    "\n",
    "print(\"Dataset ready.\")\n"
   ]
  },
  {
   "cell_type": "code",
   "execution_count": 2,
   "id": "8760d1c8",
   "metadata": {},
   "outputs": [],
   "source": [
    "analyzer = TextSimilarityAnalyzer()"
   ]
  },
  {
   "cell_type": "code",
   "execution_count": 3,
   "id": "76d22988",
   "metadata": {},
   "outputs": [
    {
     "name": "stdout",
     "output_type": "stream",
     "text": [
      "Loaded 488 reviews\n",
      "Built LSH model with 486 processed reviews\n",
      "Found 6 similar pairs\n",
      "+----------+----------+-------------------+\n",
      "|i         |j         |jaccard            |\n",
      "+----------+----------+-------------------+\n",
      "|B000NHNM3C|B000NWUHR6|0.2857142857142857 |\n",
      "|0898702755|B000FC2QGE|0.23076923076923078|\n",
      "|0760055327|B000FC2QGE|0.2222222222222222 |\n",
      "|0192723553|B000NI37N6|0.21428571428571427|\n",
      "|B0006FA2TS|B000FC2QGE|0.21428571428571427|\n",
      "|0898702755|B0006FA2TS|0.21052631578947367|\n",
      "+----------+----------+-------------------+\n",
      "\n"
     ]
    }
   ],
   "source": [
    "similar_pairs = analyzer.analyze_similarity_pipeline(\n",
    "        csv_path=\"dataset/Books_rating.csv\",\n",
    "        sample_n=500,\n",
    "        topk=50\n",
    "    )\n",
    "similar_pairs.show(10, truncate=False)"
   ]
  }
 ],
 "metadata": {
  "colab": {
   "provenance": []
  },
  "kernelspec": {
   "display_name": "venv",
   "language": "python",
   "name": "python3"
  },
  "language_info": {
   "codemirror_mode": {
    "name": "ipython",
    "version": 3
   },
   "file_extension": ".py",
   "mimetype": "text/x-python",
   "name": "python",
   "nbconvert_exporter": "python",
   "pygments_lexer": "ipython3",
   "version": "3.12.0"
  }
 },
 "nbformat": 4,
 "nbformat_minor": 5
}
